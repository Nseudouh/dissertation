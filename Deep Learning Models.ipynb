{
 "cells": [
  {
   "cell_type": "code",
   "execution_count": 81,
   "metadata": {
    "collapsed": true
   },
   "outputs": [
    {
     "name": "stderr",
     "output_type": "stream",
     "text": [
      "[nltk_data] Downloading package punkt to\n",
      "[nltk_data]     C:\\Users\\nudou\\AppData\\Roaming\\nltk_data...\n",
      "[nltk_data]   Package punkt is already up-to-date!\n",
      "[nltk_data] Downloading package maxent_ne_chunker to\n",
      "[nltk_data]     C:\\Users\\nudou\\AppData\\Roaming\\nltk_data...\n",
      "[nltk_data]   Package maxent_ne_chunker is already up-to-date!\n",
      "[nltk_data] Downloading package words to\n",
      "[nltk_data]     C:\\Users\\nudou\\AppData\\Roaming\\nltk_data...\n",
      "[nltk_data]   Package words is already up-to-date!\n"
     ]
    }
   ],
   "source": [
    "\n",
    "import nltk\n",
    "import pandas as pd\n",
    "import matplotlib.pyplot as plt\n",
    "from textblob import TextBlob\n",
    "plt.style.use('fivethirtyeight')\n",
    "nltk.download('punkt')\n",
    "nltk.download('maxent_ne_chunker')\n",
    "nltk.download('words')\n",
    "from nltk.stem.porter import PorterStemmer\n",
    "from nltk.corpus import stopwords\n",
    "from nltk.tokenize import word_tokenize\n",
    "from scipy.special import softmax\n",
    "from nltk import ne_chunk\n",
    "import plotly.express as px"
   ]
  },
  {
   "cell_type": "code",
   "execution_count": 82,
   "metadata": {
    "pycharm": {
     "name": "#%%\n"
    }
   },
   "outputs": [
    {
     "data": {
      "text/plain": "      Id NetworkService                                            Reviews\n0      1             EE           Connectivity, network strength, internet\n1      2       Giffgaff                                     Cheap bundles \n2      3             EE  Easy to contact support. Easy to use app. Fair...\n3      4             EE                             Gifting data to family\n4      5             EE                  Cost , sometimes singal goes off \n..   ...            ...                                                ...\n100  101       3network              Nothing that I'm aware of currently. \n101  102       Vodafone                              A bit more expensive \n102  103             EE                               Horrible data bundle\n103  104             EE                          Long wait when you call, \n104  105             EE          Sim with phone contract is very expensive\n\n[105 rows x 3 columns]",
      "text/html": "<div>\n<style scoped>\n    .dataframe tbody tr th:only-of-type {\n        vertical-align: middle;\n    }\n\n    .dataframe tbody tr th {\n        vertical-align: top;\n    }\n\n    .dataframe thead th {\n        text-align: right;\n    }\n</style>\n<table border=\"1\" class=\"dataframe\">\n  <thead>\n    <tr style=\"text-align: right;\">\n      <th></th>\n      <th>Id</th>\n      <th>NetworkService</th>\n      <th>Reviews</th>\n    </tr>\n  </thead>\n  <tbody>\n    <tr>\n      <th>0</th>\n      <td>1</td>\n      <td>EE</td>\n      <td>Connectivity, network strength, internet</td>\n    </tr>\n    <tr>\n      <th>1</th>\n      <td>2</td>\n      <td>Giffgaff</td>\n      <td>Cheap bundles</td>\n    </tr>\n    <tr>\n      <th>2</th>\n      <td>3</td>\n      <td>EE</td>\n      <td>Easy to contact support. Easy to use app. Fair...</td>\n    </tr>\n    <tr>\n      <th>3</th>\n      <td>4</td>\n      <td>EE</td>\n      <td>Gifting data to family</td>\n    </tr>\n    <tr>\n      <th>4</th>\n      <td>5</td>\n      <td>EE</td>\n      <td>Cost , sometimes singal goes off</td>\n    </tr>\n    <tr>\n      <th>...</th>\n      <td>...</td>\n      <td>...</td>\n      <td>...</td>\n    </tr>\n    <tr>\n      <th>100</th>\n      <td>101</td>\n      <td>3network</td>\n      <td>Nothing that I'm aware of currently.</td>\n    </tr>\n    <tr>\n      <th>101</th>\n      <td>102</td>\n      <td>Vodafone</td>\n      <td>A bit more expensive</td>\n    </tr>\n    <tr>\n      <th>102</th>\n      <td>103</td>\n      <td>EE</td>\n      <td>Horrible data bundle</td>\n    </tr>\n    <tr>\n      <th>103</th>\n      <td>104</td>\n      <td>EE</td>\n      <td>Long wait when you call,</td>\n    </tr>\n    <tr>\n      <th>104</th>\n      <td>105</td>\n      <td>EE</td>\n      <td>Sim with phone contract is very expensive</td>\n    </tr>\n  </tbody>\n</table>\n<p>105 rows × 3 columns</p>\n</div>"
     },
     "execution_count": 82,
     "metadata": {},
     "output_type": "execute_result"
    }
   ],
   "source": [
    "data= pd.read_csv(\"Reviews Sentiment.csv\")\n",
    "data"
   ]
  },
  {
   "cell_type": "code",
   "execution_count": 83,
   "metadata": {
    "pycharm": {
     "name": "#%%\n"
    }
   },
   "outputs": [
    {
     "data": {
      "text/plain": "      Id NetworkService                                            Reviews  \\\n0      1             EE           Connectivity, network strength, internet   \n1      2       Giffgaff                                     Cheap bundles    \n2      3             EE  Easy to contact support. Easy to use app. Fair...   \n3      4             EE                             Gifting data to family   \n4      5             EE                  Cost , sometimes singal goes off    \n..   ...            ...                                                ...   \n100  101       3network              Nothing that I'm aware of currently.    \n101  102       Vodafone                              A bit more expensive    \n102  103             EE                               Horrible data bundle   \n103  104             EE                          Long wait when you call,    \n104  105             EE          Sim with phone contract is very expensive   \n\n     Subjectivity  Polarity  \n0        0.000000  0.000000  \n1        0.700000  0.400000  \n2        0.855556  0.522222  \n3        0.000000  0.000000  \n4        0.000000  0.000000  \n..            ...       ...  \n100      0.325000  0.125000  \n101      0.600000  0.000000  \n102      1.000000 -1.000000  \n103      0.400000 -0.050000  \n104      0.910000 -0.650000  \n\n[105 rows x 5 columns]",
      "text/html": "<div>\n<style scoped>\n    .dataframe tbody tr th:only-of-type {\n        vertical-align: middle;\n    }\n\n    .dataframe tbody tr th {\n        vertical-align: top;\n    }\n\n    .dataframe thead th {\n        text-align: right;\n    }\n</style>\n<table border=\"1\" class=\"dataframe\">\n  <thead>\n    <tr style=\"text-align: right;\">\n      <th></th>\n      <th>Id</th>\n      <th>NetworkService</th>\n      <th>Reviews</th>\n      <th>Subjectivity</th>\n      <th>Polarity</th>\n    </tr>\n  </thead>\n  <tbody>\n    <tr>\n      <th>0</th>\n      <td>1</td>\n      <td>EE</td>\n      <td>Connectivity, network strength, internet</td>\n      <td>0.000000</td>\n      <td>0.000000</td>\n    </tr>\n    <tr>\n      <th>1</th>\n      <td>2</td>\n      <td>Giffgaff</td>\n      <td>Cheap bundles</td>\n      <td>0.700000</td>\n      <td>0.400000</td>\n    </tr>\n    <tr>\n      <th>2</th>\n      <td>3</td>\n      <td>EE</td>\n      <td>Easy to contact support. Easy to use app. Fair...</td>\n      <td>0.855556</td>\n      <td>0.522222</td>\n    </tr>\n    <tr>\n      <th>3</th>\n      <td>4</td>\n      <td>EE</td>\n      <td>Gifting data to family</td>\n      <td>0.000000</td>\n      <td>0.000000</td>\n    </tr>\n    <tr>\n      <th>4</th>\n      <td>5</td>\n      <td>EE</td>\n      <td>Cost , sometimes singal goes off</td>\n      <td>0.000000</td>\n      <td>0.000000</td>\n    </tr>\n    <tr>\n      <th>...</th>\n      <td>...</td>\n      <td>...</td>\n      <td>...</td>\n      <td>...</td>\n      <td>...</td>\n    </tr>\n    <tr>\n      <th>100</th>\n      <td>101</td>\n      <td>3network</td>\n      <td>Nothing that I'm aware of currently.</td>\n      <td>0.325000</td>\n      <td>0.125000</td>\n    </tr>\n    <tr>\n      <th>101</th>\n      <td>102</td>\n      <td>Vodafone</td>\n      <td>A bit more expensive</td>\n      <td>0.600000</td>\n      <td>0.000000</td>\n    </tr>\n    <tr>\n      <th>102</th>\n      <td>103</td>\n      <td>EE</td>\n      <td>Horrible data bundle</td>\n      <td>1.000000</td>\n      <td>-1.000000</td>\n    </tr>\n    <tr>\n      <th>103</th>\n      <td>104</td>\n      <td>EE</td>\n      <td>Long wait when you call,</td>\n      <td>0.400000</td>\n      <td>-0.050000</td>\n    </tr>\n    <tr>\n      <th>104</th>\n      <td>105</td>\n      <td>EE</td>\n      <td>Sim with phone contract is very expensive</td>\n      <td>0.910000</td>\n      <td>-0.650000</td>\n    </tr>\n  </tbody>\n</table>\n<p>105 rows × 5 columns</p>\n</div>"
     },
     "execution_count": 83,
     "metadata": {},
     "output_type": "execute_result"
    }
   ],
   "source": [
    "#creating a function to create the subjectivity and the polarity\n",
    "\n",
    "#helps in telling how subjective and opinionated the text is\n",
    "def getSubjectivity(text):\n",
    "    return TextBlob(text).sentiment.subjectivity\n",
    "\n",
    "#tells how positive or negative the review is\n",
    "def getpolarity(text):\n",
    "    return TextBlob(text). sentiment.polarity\n",
    "\n",
    "data['Subjectivity']= data['Reviews'].apply(getSubjectivity)\n",
    "\n",
    "data['Polarity']= data['Reviews'].apply(getpolarity)\n",
    "data\n",
    "\n"
   ]
  },
  {
   "cell_type": "code",
   "execution_count": 84,
   "metadata": {
    "pycharm": {
     "name": "#%%\n"
    }
   },
   "outputs": [
    {
     "data": {
      "text/plain": "      Id NetworkService                                            Reviews  \\\n0      1             EE           Connectivity, network strength, internet   \n1      2       Giffgaff                                     Cheap bundles    \n2      3             EE  Easy to contact support. Easy to use app. Fair...   \n3      4             EE                             Gifting data to family   \n4      5             EE                  Cost , sometimes singal goes off    \n..   ...            ...                                                ...   \n100  101       3network              Nothing that I'm aware of currently.    \n101  102       Vodafone                              A bit more expensive    \n102  103             EE                               Horrible data bundle   \n103  104             EE                          Long wait when you call,    \n104  105             EE          Sim with phone contract is very expensive   \n\n     Subjectivity  Polarity  Analysis  \n0        0.000000  0.000000   Neutral  \n1        0.700000  0.400000  Positive  \n2        0.855556  0.522222  Positive  \n3        0.000000  0.000000   Neutral  \n4        0.000000  0.000000   Neutral  \n..            ...       ...       ...  \n100      0.325000  0.125000  Positive  \n101      0.600000  0.000000   Neutral  \n102      1.000000 -1.000000  Negative  \n103      0.400000 -0.050000  Negative  \n104      0.910000 -0.650000  Negative  \n\n[105 rows x 6 columns]",
      "text/html": "<div>\n<style scoped>\n    .dataframe tbody tr th:only-of-type {\n        vertical-align: middle;\n    }\n\n    .dataframe tbody tr th {\n        vertical-align: top;\n    }\n\n    .dataframe thead th {\n        text-align: right;\n    }\n</style>\n<table border=\"1\" class=\"dataframe\">\n  <thead>\n    <tr style=\"text-align: right;\">\n      <th></th>\n      <th>Id</th>\n      <th>NetworkService</th>\n      <th>Reviews</th>\n      <th>Subjectivity</th>\n      <th>Polarity</th>\n      <th>Analysis</th>\n    </tr>\n  </thead>\n  <tbody>\n    <tr>\n      <th>0</th>\n      <td>1</td>\n      <td>EE</td>\n      <td>Connectivity, network strength, internet</td>\n      <td>0.000000</td>\n      <td>0.000000</td>\n      <td>Neutral</td>\n    </tr>\n    <tr>\n      <th>1</th>\n      <td>2</td>\n      <td>Giffgaff</td>\n      <td>Cheap bundles</td>\n      <td>0.700000</td>\n      <td>0.400000</td>\n      <td>Positive</td>\n    </tr>\n    <tr>\n      <th>2</th>\n      <td>3</td>\n      <td>EE</td>\n      <td>Easy to contact support. Easy to use app. Fair...</td>\n      <td>0.855556</td>\n      <td>0.522222</td>\n      <td>Positive</td>\n    </tr>\n    <tr>\n      <th>3</th>\n      <td>4</td>\n      <td>EE</td>\n      <td>Gifting data to family</td>\n      <td>0.000000</td>\n      <td>0.000000</td>\n      <td>Neutral</td>\n    </tr>\n    <tr>\n      <th>4</th>\n      <td>5</td>\n      <td>EE</td>\n      <td>Cost , sometimes singal goes off</td>\n      <td>0.000000</td>\n      <td>0.000000</td>\n      <td>Neutral</td>\n    </tr>\n    <tr>\n      <th>...</th>\n      <td>...</td>\n      <td>...</td>\n      <td>...</td>\n      <td>...</td>\n      <td>...</td>\n      <td>...</td>\n    </tr>\n    <tr>\n      <th>100</th>\n      <td>101</td>\n      <td>3network</td>\n      <td>Nothing that I'm aware of currently.</td>\n      <td>0.325000</td>\n      <td>0.125000</td>\n      <td>Positive</td>\n    </tr>\n    <tr>\n      <th>101</th>\n      <td>102</td>\n      <td>Vodafone</td>\n      <td>A bit more expensive</td>\n      <td>0.600000</td>\n      <td>0.000000</td>\n      <td>Neutral</td>\n    </tr>\n    <tr>\n      <th>102</th>\n      <td>103</td>\n      <td>EE</td>\n      <td>Horrible data bundle</td>\n      <td>1.000000</td>\n      <td>-1.000000</td>\n      <td>Negative</td>\n    </tr>\n    <tr>\n      <th>103</th>\n      <td>104</td>\n      <td>EE</td>\n      <td>Long wait when you call,</td>\n      <td>0.400000</td>\n      <td>-0.050000</td>\n      <td>Negative</td>\n    </tr>\n    <tr>\n      <th>104</th>\n      <td>105</td>\n      <td>EE</td>\n      <td>Sim with phone contract is very expensive</td>\n      <td>0.910000</td>\n      <td>-0.650000</td>\n      <td>Negative</td>\n    </tr>\n  </tbody>\n</table>\n<p>105 rows × 6 columns</p>\n</div>"
     },
     "execution_count": 84,
     "metadata": {},
     "output_type": "execute_result"
    }
   ],
   "source": [
    "#creating a function to compute the negative , positive and neutral string.\n",
    "\n",
    "def getAnalysis(score):\n",
    "    if score < 0:\n",
    "        return 'Negative'\n",
    "    elif score == 0:\n",
    "        return 'Neutral'\n",
    "    else:\n",
    "        return 'Positive'\n",
    "\n",
    "data['Analysis'] = data['Polarity'].apply(getAnalysis)\n",
    "#showing the dataframe\n",
    "data"
   ]
  },
  {
   "cell_type": "markdown",
   "metadata": {
    "pycharm": {
     "name": "#%% md\n"
    }
   },
   "source": [
    "Predicting Sentiment Analysis"
   ]
  },
  {
   "cell_type": "code",
   "execution_count": 85,
   "metadata": {
    "pycharm": {
     "name": "#%%\n"
    }
   },
   "outputs": [],
   "source": [
    "#creating a new variable for my data\n",
    "columns= ['Id','NetworkService', 'Reviews', 'Subjectivity', 'Polarity', 'Analysis']\n",
    "new_data = data[(columns)]\n"
   ]
  },
  {
   "cell_type": "code",
   "execution_count": 86,
   "metadata": {
    "pycharm": {
     "name": "#%%\n"
    }
   },
   "outputs": [
    {
     "name": "stdout",
     "output_type": "stream",
     "text": [
      "      Id NetworkService                                            Reviews  \\\n",
      "0      1             EE           Connectivity, network strength, internet   \n",
      "1      2       Giffgaff                                     Cheap bundles    \n",
      "2      3             EE  Easy to contact support. Easy to use app. Fair...   \n",
      "3      4             EE                             Gifting data to family   \n",
      "4      5             EE                  Cost , sometimes singal goes off    \n",
      "..   ...            ...                                                ...   \n",
      "100  101       3network              Nothing that I'm aware of currently.    \n",
      "101  102       Vodafone                              A bit more expensive    \n",
      "102  103             EE                               Horrible data bundle   \n",
      "103  104             EE                          Long wait when you call,    \n",
      "104  105             EE          Sim with phone contract is very expensive   \n",
      "\n",
      "     Subjectivity  Polarity  Analysis  \n",
      "0        0.000000  0.000000   Neutral  \n",
      "1        0.700000  0.400000  Positive  \n",
      "2        0.855556  0.522222  Positive  \n",
      "3        0.000000  0.000000   Neutral  \n",
      "4        0.000000  0.000000   Neutral  \n",
      "..            ...       ...       ...  \n",
      "100      0.325000  0.125000  Positive  \n",
      "101      0.600000  0.000000   Neutral  \n",
      "102      1.000000 -1.000000  Negative  \n",
      "103      0.400000 -0.050000  Negative  \n",
      "104      0.910000 -0.650000  Negative  \n",
      "\n",
      "[105 rows x 6 columns]\n"
     ]
    }
   ],
   "source": [
    "#encoded the analysis from numeric to mumbers as i will be using it to work on my model\n",
    "Analysis = {'Positive': 1,'Neutral': 0,'Negative':-1}\n",
    "#sentiment  = {'positive': 0,'neutral': 1,'negative':2}\n",
    "\n",
    "new_data.Analysis = [Analysis[item] for item in new_data.Analysis]\n",
    "print(data)\n"
   ]
  },
  {
   "cell_type": "code",
   "execution_count": 87,
   "outputs": [
    {
     "data": {
      "text/plain": "                Subjectivity\nNetworkService              \nEE                  9.191389\nGiffgaff            7.225833\nVodafone            5.162222\nLebara              4.790000\n3network            4.016667",
      "text/html": "<div>\n<style scoped>\n    .dataframe tbody tr th:only-of-type {\n        vertical-align: middle;\n    }\n\n    .dataframe tbody tr th {\n        vertical-align: top;\n    }\n\n    .dataframe thead th {\n        text-align: right;\n    }\n</style>\n<table border=\"1\" class=\"dataframe\">\n  <thead>\n    <tr style=\"text-align: right;\">\n      <th></th>\n      <th>Subjectivity</th>\n    </tr>\n    <tr>\n      <th>NetworkService</th>\n      <th></th>\n    </tr>\n  </thead>\n  <tbody>\n    <tr>\n      <th>EE</th>\n      <td>9.191389</td>\n    </tr>\n    <tr>\n      <th>Giffgaff</th>\n      <td>7.225833</td>\n    </tr>\n    <tr>\n      <th>Vodafone</th>\n      <td>5.162222</td>\n    </tr>\n    <tr>\n      <th>Lebara</th>\n      <td>4.790000</td>\n    </tr>\n    <tr>\n      <th>3network</th>\n      <td>4.016667</td>\n    </tr>\n  </tbody>\n</table>\n</div>"
     },
     "execution_count": 87,
     "metadata": {},
     "output_type": "execute_result"
    }
   ],
   "source": [
    "#Top 5 with the highest positive review\n",
    "\n",
    "top_Network = data[['NetworkService', 'Subjectivity']]\n",
    "top_Network = top_Network.groupby(['NetworkService']).sum()\n",
    "top_5_Network = top_Network.sort_values(by = ['Subjectivity'], ascending =False).head()\n",
    "top_5_Network"
   ],
   "metadata": {
    "collapsed": false,
    "pycharm": {
     "name": "#%%\n"
    }
   }
  },
  {
   "cell_type": "markdown",
   "source": [
    "ENCODING"
   ],
   "metadata": {
    "collapsed": false,
    "pycharm": {
     "name": "#%% md\n"
    }
   }
  },
  {
   "cell_type": "code",
   "execution_count": 88,
   "metadata": {
    "pycharm": {
     "name": "#%%\n"
    }
   },
   "outputs": [
    {
     "data": {
      "text/plain": "      Id NetworkService                                            Reviews  \\\n0      1              0           Connectivity, network strength, internet   \n1      2              5                                     Cheap bundles    \n2      3              0  Easy to contact support. Easy to use app. Fair...   \n3      4              0                             Gifting data to family   \n4      5              0                  Cost , sometimes singal goes off    \n..   ...            ...                                                ...   \n100  101             10              Nothing that I'm aware of currently.    \n101  102              6                              A bit more expensive    \n102  103              0                               Horrible data bundle   \n103  104              0                          Long wait when you call,    \n104  105              0          Sim with phone contract is very expensive   \n\n     Subjectivity  Polarity  Analysis  \n0        0.000000  0.000000         0  \n1        0.700000  0.400000         1  \n2        0.855556  0.522222         1  \n3        0.000000  0.000000         0  \n4        0.000000  0.000000         0  \n..            ...       ...       ...  \n100      0.325000  0.125000         1  \n101      0.600000  0.000000         0  \n102      1.000000 -1.000000        -1  \n103      0.400000 -0.050000        -1  \n104      0.910000 -0.650000        -1  \n\n[105 rows x 6 columns]",
      "text/html": "<div>\n<style scoped>\n    .dataframe tbody tr th:only-of-type {\n        vertical-align: middle;\n    }\n\n    .dataframe tbody tr th {\n        vertical-align: top;\n    }\n\n    .dataframe thead th {\n        text-align: right;\n    }\n</style>\n<table border=\"1\" class=\"dataframe\">\n  <thead>\n    <tr style=\"text-align: right;\">\n      <th></th>\n      <th>Id</th>\n      <th>NetworkService</th>\n      <th>Reviews</th>\n      <th>Subjectivity</th>\n      <th>Polarity</th>\n      <th>Analysis</th>\n    </tr>\n  </thead>\n  <tbody>\n    <tr>\n      <th>0</th>\n      <td>1</td>\n      <td>0</td>\n      <td>Connectivity, network strength, internet</td>\n      <td>0.000000</td>\n      <td>0.000000</td>\n      <td>0</td>\n    </tr>\n    <tr>\n      <th>1</th>\n      <td>2</td>\n      <td>5</td>\n      <td>Cheap bundles</td>\n      <td>0.700000</td>\n      <td>0.400000</td>\n      <td>1</td>\n    </tr>\n    <tr>\n      <th>2</th>\n      <td>3</td>\n      <td>0</td>\n      <td>Easy to contact support. Easy to use app. Fair...</td>\n      <td>0.855556</td>\n      <td>0.522222</td>\n      <td>1</td>\n    </tr>\n    <tr>\n      <th>3</th>\n      <td>4</td>\n      <td>0</td>\n      <td>Gifting data to family</td>\n      <td>0.000000</td>\n      <td>0.000000</td>\n      <td>0</td>\n    </tr>\n    <tr>\n      <th>4</th>\n      <td>5</td>\n      <td>0</td>\n      <td>Cost , sometimes singal goes off</td>\n      <td>0.000000</td>\n      <td>0.000000</td>\n      <td>0</td>\n    </tr>\n    <tr>\n      <th>...</th>\n      <td>...</td>\n      <td>...</td>\n      <td>...</td>\n      <td>...</td>\n      <td>...</td>\n      <td>...</td>\n    </tr>\n    <tr>\n      <th>100</th>\n      <td>101</td>\n      <td>10</td>\n      <td>Nothing that I'm aware of currently.</td>\n      <td>0.325000</td>\n      <td>0.125000</td>\n      <td>1</td>\n    </tr>\n    <tr>\n      <th>101</th>\n      <td>102</td>\n      <td>6</td>\n      <td>A bit more expensive</td>\n      <td>0.600000</td>\n      <td>0.000000</td>\n      <td>0</td>\n    </tr>\n    <tr>\n      <th>102</th>\n      <td>103</td>\n      <td>0</td>\n      <td>Horrible data bundle</td>\n      <td>1.000000</td>\n      <td>-1.000000</td>\n      <td>-1</td>\n    </tr>\n    <tr>\n      <th>103</th>\n      <td>104</td>\n      <td>0</td>\n      <td>Long wait when you call,</td>\n      <td>0.400000</td>\n      <td>-0.050000</td>\n      <td>-1</td>\n    </tr>\n    <tr>\n      <th>104</th>\n      <td>105</td>\n      <td>0</td>\n      <td>Sim with phone contract is very expensive</td>\n      <td>0.910000</td>\n      <td>-0.650000</td>\n      <td>-1</td>\n    </tr>\n  </tbody>\n</table>\n<p>105 rows × 6 columns</p>\n</div>"
     },
     "execution_count": 88,
     "metadata": {},
     "output_type": "execute_result"
    }
   ],
   "source": [
    "#Encoding my data by using the replace function\n",
    "network_value = {'EE':0, 'Lebara':1, 'Telco':2, 'Smarty':3, '3G':4, 'Giffgaff':5, 'Vodafone':6, '02':7, 'Virgin':8, 'Lycamobile': 9, '3network':10}\n",
    "new_data['NetworkService'] = new_data['NetworkService'].replace(network_value)\n",
    "new_data\n",
    "\n"
   ]
  },
  {
   "cell_type": "code",
   "execution_count": 89,
   "metadata": {
    "pycharm": {
     "name": "#%%\n"
    }
   },
   "outputs": [
    {
     "data": {
      "text/plain": "<Figure size 720x360 with 1 Axes>",
      "image/png": "[encoded data removed]"
     },
     "metadata": {},
     "output_type": "display_data"
    }
   ],
   "source": [
    "#the number of review analysis.\n",
    "ax= new_data['Analysis'].value_counts().sort_index().plot(kind='bar', title= 'Count of Reviews by Analysis', figsize=(10,5,))\n",
    "ax.set_xlabel('Review Analysis')\n",
    "plt.show()\n"
   ]
  },
  {
   "cell_type": "code",
   "execution_count": 90,
   "metadata": {
    "pycharm": {
     "name": "#%%\n"
    }
   },
   "outputs": [
    {
     "name": "stdout",
     "output_type": "stream",
     "text": [
      "I got better deal, good customer satisfaction \n"
     ]
    }
   ],
   "source": [
    "\n",
    "words= new_data['Reviews'][12]\n",
    "print(words)"
   ]
  },
  {
   "cell_type": "markdown",
   "source": [
    "PREPROCESSING"
   ],
   "metadata": {
    "collapsed": false,
    "pycharm": {
     "name": "#%% md\n"
    }
   }
  },
  {
   "cell_type": "markdown",
   "source": [
    "TOKENIZATION"
   ],
   "metadata": {
    "collapsed": false,
    "pycharm": {
     "name": "#%% md\n"
    }
   }
  },
  {
   "cell_type": "code",
   "execution_count": 91,
   "metadata": {
    "pycharm": {
     "name": "#%%\n"
    }
   },
   "outputs": [],
   "source": [
    "#breaking down the words into simpler form.\n",
    "porter = PorterStemmer()\n",
    "def tokenizer(words):#breaking down the text with the tokenizer\n",
    "    return words.split()\n",
    "\n",
    "def tokenizer_porter(words):\n",
    "    return[porter.stem(words)for words in words.split()]\n",
    "# tokens= nltk.word_tokenize(words)\n",
    "# tokens"
   ]
  },
  {
   "cell_type": "code",
   "execution_count": 92,
   "outputs": [
    {
     "data": {
      "text/plain": "['I', 'got', 'better', 'deal,', 'good', 'customer', 'satisfaction']"
     },
     "execution_count": 92,
     "metadata": {},
     "output_type": "execute_result"
    }
   ],
   "source": [
    "#break the sentence into smaller words\n",
    "tokenizer('I got better deal, good customer satisfaction')"
   ],
   "metadata": {
    "collapsed": false,
    "pycharm": {
     "name": "#%%\n"
    }
   }
  },
  {
   "cell_type": "code",
   "execution_count": 93,
   "outputs": [
    {
     "data": {
      "text/plain": "['i', 'got', 'better', 'deal,', 'good', 'custom', 'satisfact']"
     },
     "execution_count": 93,
     "metadata": {},
     "output_type": "execute_result"
    }
   ],
   "source": [
    "tokenizer_porter('I got better deal, good customer satisfaction')"
   ],
   "metadata": {
    "collapsed": false,
    "pycharm": {
     "name": "#%%\n"
    }
   }
  },
  {
   "cell_type": "markdown",
   "source": [
    "FREQUENCY. This helps to understand how many words has occurred in tbe text"
   ],
   "metadata": {
    "collapsed": false,
    "pycharm": {
     "name": "#%% md\n"
    }
   }
  },
  {
   "cell_type": "code",
   "execution_count": 94,
   "outputs": [
    {
     "data": {
      "text/plain": "FreqDist({' ': 7, 't': 6, 'o': 5, 'e': 4, 'a': 3, 's': 3, 'g': 2, 'r': 2, 'd': 2, 'c': 2, ...})"
     },
     "execution_count": 94,
     "metadata": {},
     "output_type": "execute_result"
    }
   ],
   "source": [
    "# finding the frequency distinct in the tokens\n",
    "from nltk.probability import FreqDist\n",
    "fdist = FreqDist(words)\n",
    "fdist\n"
   ],
   "metadata": {
    "collapsed": false,
    "pycharm": {
     "name": "#%%\n"
    }
   }
  },
  {
   "cell_type": "markdown",
   "source": [
    "PART OF SPEECH. This is using the nltk to assign parts of speech to each group of words"
   ],
   "metadata": {
    "collapsed": false,
    "pycharm": {
     "name": "#%% md\n"
    }
   }
  },
  {
   "cell_type": "code",
   "execution_count": 95,
   "outputs": [
    {
     "data": {
      "text/plain": "[('I', 'PRP'),\n ('got', 'VBD'),\n ('better', 'RBR'),\n ('deal', 'NN'),\n (',', ','),\n ('good', 'JJ'),\n ('customer', 'NN'),\n ('satisfaction', 'NN')]"
     },
     "execution_count": 95,
     "metadata": {},
     "output_type": "execute_result"
    }
   ],
   "source": [
    "#the part of speech for the tokens\n",
    "#each of the words have been given their part of speech\n",
    "tokens= nltk.word_tokenize(words)\n",
    "tagged= nltk.pos_tag(tokens)\n",
    "tagged[:10]"
   ],
   "metadata": {
    "collapsed": false,
    "pycharm": {
     "name": "#%%\n"
    }
   }
  },
  {
   "cell_type": "code",
   "execution_count": 96,
   "metadata": {
    "pycharm": {
     "name": "#%%\n"
    }
   },
   "outputs": [
    {
     "data": {
      "text/plain": "Tree('S', [('I', 'PRP'), ('got', 'VBD'), ('better', 'RBR'), ('deal', 'NN'), (',', ','), ('good', 'JJ'), ('customer', 'NN'), ('satisfaction', 'NN')])",
      "image/png": "[encoded data removed]"
     },
     "execution_count": 96,
     "metadata": {},
     "output_type": "execute_result"
    }
   ],
   "source": [
    "\n",
    "text = words\n",
    "#importing chunk library from nltk\n",
    "token = word_tokenize(text)\n",
    "tags = nltk.pos_tag(token)\n",
    "pos = ne_chunk(tags)\n",
    "pos\n",
    "#made use of ghostscripts for graphics"
   ]
  },
  {
   "cell_type": "markdown",
   "source": [
    "CHUNK. This is grouping each individual words into bigger entities"
   ],
   "metadata": {
    "collapsed": false,
    "pycharm": {
     "name": "#%% md\n"
    }
   }
  },
  {
   "cell_type": "code",
   "execution_count": 97,
   "outputs": [
    {
     "name": "stdout",
     "output_type": "stream",
     "text": [
      "(S\n",
      "  I/PRP\n",
      "  got/VBD\n",
      "  better/RBR\n",
      "  deal/NN\n",
      "  ,/,\n",
      "  good/JJ\n",
      "  customer/NN\n",
      "  satisfaction/NN)\n"
     ]
    }
   ],
   "source": [
    "entities= nltk.chunk.ne_chunk(tagged)\n",
    "entities.pprint()"
   ],
   "metadata": {
    "collapsed": false,
    "pycharm": {
     "name": "#%%\n"
    }
   }
  },
  {
   "cell_type": "markdown",
   "source": [
    "STOPWORDS. These are words that do not have any meaning in a text. Words like 'the', 'is', 'a'"
   ],
   "metadata": {
    "collapsed": false,
    "pycharm": {
     "name": "#%% md\n"
    }
   }
  },
  {
   "cell_type": "code",
   "execution_count": 98,
   "outputs": [
    {
     "data": {
      "text/plain": "['got', 'better', 'deal,', 'good', 'custom', 'satisfact']"
     },
     "execution_count": 98,
     "metadata": {},
     "output_type": "execute_result"
    }
   ],
   "source": [
    "stop= stopwords.words('english')\n",
    "[words for words  in tokenizer_porter('I got better deal, good customer satisfaction')[-10: ]\n",
    "if words not in stop]\n"
   ],
   "metadata": {
    "collapsed": false,
    "pycharm": {
     "name": "#%%\n"
    }
   }
  },
  {
   "cell_type": "markdown",
   "metadata": {
    "pycharm": {
     "name": "#%% md\n"
    }
   },
   "source": [
    "VADER MODEL\n",
    "Vader stands for Valance Aware Dictionary and Sentiment Reasoner."
   ]
  },
  {
   "cell_type": "code",
   "source": [
    "from nltk.sentiment import SentimentIntensityAnalyzer\n",
    "from tqdm.notebook import tqdm #used for doing some loops\n",
    "import nltk\n",
    "nltk.download('vader_lexicon')\n",
    "from vaderSentiment.vaderSentiment import SentimentIntensityAnalyzer\n",
    "sia= SentimentIntensityAnalyzer()\n"
   ],
   "metadata": {
    "collapsed": false,
    "pycharm": {
     "name": "#%%\n"
    }
   },
   "execution_count": 99,
   "outputs": [
    {
     "name": "stderr",
     "output_type": "stream",
     "text": [
      "[nltk_data] Downloading package vader_lexicon to\n",
      "[nltk_data]     C:\\Users\\nudou\\AppData\\Roaming\\nltk_data...\n",
      "[nltk_data]   Package vader_lexicon is already up-to-date!\n"
     ]
    }
   ]
  },
  {
   "cell_type": "code",
   "execution_count": 100,
   "outputs": [
    {
     "data": {
      "text/plain": "  0%|          | 0/105 [00:00<?, ?it/s]",
      "application/vnd.jupyter.widget-view+json": {
       "version_major": 2,
       "version_minor": 0,
       "model_id": "e4575c5d136e4aee97ccfac2ade92578"
      }
     },
     "metadata": {},
     "output_type": "display_data"
    }
   ],
   "source": [
    "\n",
    "#running the polarity score on the entire dataset\n",
    "result = {}#a dictionary that would store in the polarity score of the reviews\n",
    "for i, row in tqdm(new_data.iterrows(), total=len(new_data)):\n",
    "        text = row['Reviews']\n",
    "        my_id = row['Id']\n",
    "        result[my_id] = sia.polarity_scores(text)\n"
   ],
   "metadata": {
    "collapsed": false,
    "pycharm": {
     "name": "#%%\n"
    }
   }
  },
  {
   "cell_type": "code",
   "execution_count": 101,
   "outputs": [
    {
     "data": {
      "text/plain": "{1: {'neg': 0.0, 'neu': 0.484, 'pos': 0.516, 'compound': 0.4939},\n 2: {'neg': 0.0, 'neu': 1.0, 'pos': 0.0, 'compound': 0.0},\n 3: {'neg': 0.0, 'neu': 0.357, 'pos': 0.643, 'compound': 0.8689},\n 4: {'neg': 0.0, 'neu': 1.0, 'pos': 0.0, 'compound': 0.0},\n 5: {'neg': 0.0, 'neu': 1.0, 'pos': 0.0, 'compound': 0.0},\n 6: {'neg': 0.0, 'neu': 1.0, 'pos': 0.0, 'compound': 0.0},\n 7: {'neg': 0.434, 'neu': 0.566, 'pos': 0.0, 'compound': -0.3182},\n 8: {'neg': 0.0, 'neu': 0.776, 'pos': 0.224, 'compound': 0.6369},\n 9: {'neg': 0.0, 'neu': 0.463, 'pos': 0.537, 'compound': 0.7003},\n 10: {'neg': 0.0, 'neu': 1.0, 'pos': 0.0, 'compound': 0.0},\n 11: {'neg': 0.0, 'neu': 0.455, 'pos': 0.545, 'compound': 0.5574},\n 12: {'neg': 0.0, 'neu': 1.0, 'pos': 0.0, 'compound': 0.0},\n 13: {'neg': 0.0, 'neu': 0.315, 'pos': 0.685, 'compound': 0.8271},\n 14: {'neg': 0.0, 'neu': 1.0, 'pos': 0.0, 'compound': 0.0},\n 15: {'neg': 0.0, 'neu': 1.0, 'pos': 0.0, 'compound': 0.0},\n 16: {'neg': 0.0, 'neu': 0.377, 'pos': 0.623, 'compound': 0.5106},\n 17: {'neg': 0.161, 'neu': 0.589, 'pos': 0.25, 'compound': 0.2996},\n 18: {'neg': 0.0, 'neu': 1.0, 'pos': 0.0, 'compound': 0.0},\n 19: {'neg': 0.0, 'neu': 1.0, 'pos': 0.0, 'compound': 0.0},\n 20: {'neg': 0.688, 'neu': 0.312, 'pos': 0.0, 'compound': -0.296},\n 21: {'neg': 0.0, 'neu': 1.0, 'pos': 0.0, 'compound': 0.0},\n 22: {'neg': 0.0, 'neu': 1.0, 'pos': 0.0, 'compound': 0.0},\n 23: {'neg': 0.437, 'neu': 0.563, 'pos': 0.0, 'compound': -0.4767},\n 24: {'neg': 0.0, 'neu': 1.0, 'pos': 0.0, 'compound': 0.0},\n 25: {'neg': 0.0, 'neu': 1.0, 'pos': 0.0, 'compound': 0.0},\n 26: {'neg': 0.0, 'neu': 1.0, 'pos': 0.0, 'compound': 0.0},\n 27: {'neg': 0.0, 'neu': 0.845, 'pos': 0.155, 'compound': 0.0258},\n 28: {'neg': 0.0, 'neu': 1.0, 'pos': 0.0, 'compound': 0.0},\n 29: {'neg': 0.0, 'neu': 0.387, 'pos': 0.613, 'compound': 0.8591},\n 30: {'neg': 0.0, 'neu': 1.0, 'pos': 0.0, 'compound': 0.0},\n 31: {'neg': 0.0, 'neu': 1.0, 'pos': 0.0, 'compound': 0.0},\n 32: {'neg': 0.0, 'neu': 1.0, 'pos': 0.0, 'compound': 0.0},\n 33: {'neg': 0.0, 'neu': 1.0, 'pos': 0.0, 'compound': 0.0},\n 34: {'neg': 0.0, 'neu': 1.0, 'pos': 0.0, 'compound': 0.0},\n 35: {'neg': 0.0, 'neu': 0.377, 'pos': 0.623, 'compound': 0.5106},\n 36: {'neg': 0.0, 'neu': 0.571, 'pos': 0.429, 'compound': 0.4588},\n 37: {'neg': 0.0, 'neu': 0.732, 'pos': 0.268, 'compound': 0.0258},\n 38: {'neg': 0.587, 'neu': 0.413, 'pos': 0.0, 'compound': -0.8382},\n 39: {'neg': 0.0, 'neu': 1.0, 'pos': 0.0, 'compound': 0.0},\n 40: {'neg': 0.0, 'neu': 1.0, 'pos': 0.0, 'compound': 0.0},\n 41: {'neg': 0.309, 'neu': 0.53, 'pos': 0.161, 'compound': -0.3977},\n 42: {'neg': 0.0, 'neu': 1.0, 'pos': 0.0, 'compound': 0.0},\n 43: {'neg': 0.0, 'neu': 1.0, 'pos': 0.0, 'compound': 0.0},\n 44: {'neg': 0.0, 'neu': 1.0, 'pos': 0.0, 'compound': 0.0},\n 45: {'neg': 0.437, 'neu': 0.563, 'pos': 0.0, 'compound': -0.4767},\n 46: {'neg': 0.0, 'neu': 1.0, 'pos': 0.0, 'compound': 0.0},\n 47: {'neg': 0.0, 'neu': 1.0, 'pos': 0.0, 'compound': 0.0},\n 48: {'neg': 0.0, 'neu': 1.0, 'pos': 0.0, 'compound': 0.0},\n 49: {'neg': 0.0, 'neu': 0.757, 'pos': 0.243, 'compound': 0.7269},\n 50: {'neg': 0.0, 'neu': 0.408, 'pos': 0.592, 'compound': 0.4404},\n 51: {'neg': 0.0, 'neu': 0.48, 'pos': 0.52, 'compound': 0.8261},\n 52: {'neg': 0.0, 'neu': 1.0, 'pos': 0.0, 'compound': 0.0},\n 53: {'neg': 0.0, 'neu': 1.0, 'pos': 0.0, 'compound': 0.0},\n 54: {'neg': 0.0, 'neu': 1.0, 'pos': 0.0, 'compound': 0.0},\n 55: {'neg': 0.756, 'neu': 0.244, 'pos': 0.0, 'compound': -0.4767},\n 56: {'neg': 0.0, 'neu': 1.0, 'pos': 0.0, 'compound': 0.0},\n 57: {'neg': 0.0, 'neu': 0.426, 'pos': 0.574, 'compound': 0.4019},\n 58: {'neg': 0.0, 'neu': 0.69, 'pos': 0.31, 'compound': 0.4019},\n 59: {'neg': 0.0, 'neu': 0.423, 'pos': 0.577, 'compound': 0.6249},\n 60: {'neg': 0.0, 'neu': 1.0, 'pos': 0.0, 'compound': 0.0},\n 61: {'neg': 0.0, 'neu': 0.701, 'pos': 0.299, 'compound': 0.5719},\n 62: {'neg': 0.0, 'neu': 0.61, 'pos': 0.39, 'compound': 0.4939},\n 63: {'neg': 0.0, 'neu': 0.633, 'pos': 0.367, 'compound': 0.4404},\n 64: {'neg': 0.0, 'neu': 1.0, 'pos': 0.0, 'compound': 0.0},\n 65: {'neg': 0.0, 'neu': 1.0, 'pos': 0.0, 'compound': 0.0},\n 66: {'neg': 1.0, 'neu': 0.0, 'pos': 0.0, 'compound': -0.296},\n 67: {'neg': 0.508, 'neu': 0.492, 'pos': 0.0, 'compound': -0.7351},\n 68: {'neg': 0.0, 'neu': 1.0, 'pos': 0.0, 'compound': 0.0},\n 69: {'neg': 0.279, 'neu': 0.721, 'pos': 0.0, 'compound': -0.4767},\n 70: {'neg': 0.0, 'neu': 1.0, 'pos': 0.0, 'compound': 0.0},\n 71: {'neg': 0.0, 'neu': 1.0, 'pos': 0.0, 'compound': 0.0},\n 72: {'neg': 0.0, 'neu': 1.0, 'pos': 0.0, 'compound': 0.0},\n 73: {'neg': 0.0, 'neu': 1.0, 'pos': 0.0, 'compound': 0.0},\n 74: {'neg': 0.0, 'neu': 1.0, 'pos': 0.0, 'compound': 0.0},\n 75: {'neg': 0.0, 'neu': 0.58, 'pos': 0.42, 'compound': 0.4404},\n 76: {'neg': 0.0, 'neu': 0.766, 'pos': 0.234, 'compound': 0.7003},\n 77: {'neg': 0.0, 'neu': 0.625, 'pos': 0.375, 'compound': 0.34},\n 78: {'neg': 0.0, 'neu': 0.633, 'pos': 0.367, 'compound': 0.4404},\n 79: {'neg': 0.0, 'neu': 0.426, 'pos': 0.574, 'compound': 0.6597},\n 80: {'neg': 0.0, 'neu': 1.0, 'pos': 0.0, 'compound': 0.0},\n 81: {'neg': 0.0, 'neu': 1.0, 'pos': 0.0, 'compound': 0.0},\n 82: {'neg': 0.0, 'neu': 0.633, 'pos': 0.367, 'compound': 0.4404},\n 83: {'neg': 0.0, 'neu': 1.0, 'pos': 0.0, 'compound': 0.0},\n 84: {'neg': 0.0, 'neu': 1.0, 'pos': 0.0, 'compound': 0.0},\n 85: {'neg': 0.387, 'neu': 0.613, 'pos': 0.0, 'compound': -0.6486},\n 86: {'neg': 0.225, 'neu': 0.775, 'pos': 0.0, 'compound': -0.4927},\n 87: {'neg': 0.0, 'neu': 1.0, 'pos': 0.0, 'compound': 0.0},\n 88: {'neg': 0.0, 'neu': 1.0, 'pos': 0.0, 'compound': 0.0},\n 89: {'neg': 0.0, 'neu': 0.377, 'pos': 0.623, 'compound': 0.5106},\n 90: {'neg': 0.233, 'neu': 0.4, 'pos': 0.367, 'compound': -0.0},\n 91: {'neg': 0.347, 'neu': 0.396, 'pos': 0.257, 'compound': -0.2263},\n 92: {'neg': 0.0, 'neu': 0.652, 'pos': 0.348, 'compound': 0.5859},\n 93: {'neg': 0.0, 'neu': 0.615, 'pos': 0.385, 'compound': 0.3612},\n 94: {'neg': 0.235, 'neu': 0.214, 'pos': 0.551, 'compound': 0.4512},\n 95: {'neg': 0.0, 'neu': 0.473, 'pos': 0.527, 'compound': 0.836},\n 96: {'neg': 0.0, 'neu': 1.0, 'pos': 0.0, 'compound': 0.0},\n 97: {'neg': 0.0, 'neu': 0.508, 'pos': 0.492, 'compound': 0.4404},\n 98: {'neg': 0.0, 'neu': 1.0, 'pos': 0.0, 'compound': 0.0},\n 99: {'neg': 0.0, 'neu': 1.0, 'pos': 0.0, 'compound': 0.0},\n 100: {'neg': 0.0, 'neu': 1.0, 'pos': 0.0, 'compound': 0.0},\n 101: {'neg': 0.0, 'neu': 1.0, 'pos': 0.0, 'compound': 0.0},\n 102: {'neg': 0.0, 'neu': 1.0, 'pos': 0.0, 'compound': 0.0},\n 103: {'neg': 0.636, 'neu': 0.364, 'pos': 0.0, 'compound': -0.5423},\n 104: {'neg': 0.0, 'neu': 1.0, 'pos': 0.0, 'compound': 0.0},\n 105: {'neg': 0.0, 'neu': 1.0, 'pos': 0.0, 'compound': 0.0}}"
     },
     "execution_count": 101,
     "metadata": {},
     "output_type": "execute_result"
    }
   ],
   "source": [
    "result"
   ],
   "metadata": {
    "collapsed": false,
    "pycharm": {
     "name": "#%%\n"
    }
   }
  },
  {
   "cell_type": "code",
   "execution_count": 102,
   "outputs": [
    {
     "data": {
      "text/plain": "       neg    neu    pos  compound\n1    0.000  0.484  0.516    0.4939\n2    0.000  1.000  0.000    0.0000\n3    0.000  0.357  0.643    0.8689\n4    0.000  1.000  0.000    0.0000\n5    0.000  1.000  0.000    0.0000\n..     ...    ...    ...       ...\n101  0.000  1.000  0.000    0.0000\n102  0.000  1.000  0.000    0.0000\n103  0.636  0.364  0.000   -0.5423\n104  0.000  1.000  0.000    0.0000\n105  0.000  1.000  0.000    0.0000\n\n[105 rows x 4 columns]",
      "text/html": "<div>\n<style scoped>\n    .dataframe tbody tr th:only-of-type {\n        vertical-align: middle;\n    }\n\n    .dataframe tbody tr th {\n        vertical-align: top;\n    }\n\n    .dataframe thead th {\n        text-align: right;\n    }\n</style>\n<table border=\"1\" class=\"dataframe\">\n  <thead>\n    <tr style=\"text-align: right;\">\n      <th></th>\n      <th>neg</th>\n      <th>neu</th>\n      <th>pos</th>\n      <th>compound</th>\n    </tr>\n  </thead>\n  <tbody>\n    <tr>\n      <th>1</th>\n      <td>0.000</td>\n      <td>0.484</td>\n      <td>0.516</td>\n      <td>0.4939</td>\n    </tr>\n    <tr>\n      <th>2</th>\n      <td>0.000</td>\n      <td>1.000</td>\n      <td>0.000</td>\n      <td>0.0000</td>\n    </tr>\n    <tr>\n      <th>3</th>\n      <td>0.000</td>\n      <td>0.357</td>\n      <td>0.643</td>\n      <td>0.8689</td>\n    </tr>\n    <tr>\n      <th>4</th>\n      <td>0.000</td>\n      <td>1.000</td>\n      <td>0.000</td>\n      <td>0.0000</td>\n    </tr>\n    <tr>\n      <th>5</th>\n      <td>0.000</td>\n      <td>1.000</td>\n      <td>0.000</td>\n      <td>0.0000</td>\n    </tr>\n    <tr>\n      <th>...</th>\n      <td>...</td>\n      <td>...</td>\n      <td>...</td>\n      <td>...</td>\n    </tr>\n    <tr>\n      <th>101</th>\n      <td>0.000</td>\n      <td>1.000</td>\n      <td>0.000</td>\n      <td>0.0000</td>\n    </tr>\n    <tr>\n      <th>102</th>\n      <td>0.000</td>\n      <td>1.000</td>\n      <td>0.000</td>\n      <td>0.0000</td>\n    </tr>\n    <tr>\n      <th>103</th>\n      <td>0.636</td>\n      <td>0.364</td>\n      <td>0.000</td>\n      <td>-0.5423</td>\n    </tr>\n    <tr>\n      <th>104</th>\n      <td>0.000</td>\n      <td>1.000</td>\n      <td>0.000</td>\n      <td>0.0000</td>\n    </tr>\n    <tr>\n      <th>105</th>\n      <td>0.000</td>\n      <td>1.000</td>\n      <td>0.000</td>\n      <td>0.0000</td>\n    </tr>\n  </tbody>\n</table>\n<p>105 rows × 4 columns</p>\n</div>"
     },
     "execution_count": 102,
     "metadata": {},
     "output_type": "execute_result"
    }
   ],
   "source": [
    "#turnning into a dataframe and merging to the tables\n",
    "vader=pd.DataFrame(result).T\n",
    "vader"
   ],
   "metadata": {
    "collapsed": false,
    "pycharm": {
     "name": "#%%\n"
    }
   }
  },
  {
   "cell_type": "markdown",
   "metadata": {
    "pycharm": {
     "name": "#%% md\n"
    }
   },
   "source": [
    "TESTING THE VADER MODEL"
   ]
  },
  {
   "cell_type": "code",
   "execution_count": 103,
   "metadata": {
    "pycharm": {
     "name": "#%%\n"
    }
   },
   "outputs": [
    {
     "name": "stdout",
     "output_type": "stream",
     "text": [
      "Facing network issues, mobile data connectivity issues\n"
     ]
    },
    {
     "data": {
      "text/plain": "{'neg': 0.0, 'neu': 1.0, 'pos': 0.0, 'compound': 0.0}"
     },
     "execution_count": 103,
     "metadata": {},
     "output_type": "execute_result"
    }
   ],
   "source": [
    "words= new_data['Reviews'][41]\n",
    "print(words)\n",
    "sia.polarity_scores(words)"
   ]
  },
  {
   "cell_type": "code",
   "execution_count": 104,
   "outputs": [
    {
     "data": {
      "text/plain": "{'neg': 0.0, 'neu': 1.0, 'pos': 0.0, 'compound': 0.0}"
     },
     "execution_count": 104,
     "metadata": {},
     "output_type": "execute_result"
    }
   ],
   "source": [
    "words= \"I deiike the EE network because it is so expensive\"\n",
    "sia.polarity_scores(words)"
   ],
   "metadata": {
    "collapsed": false,
    "pycharm": {
     "name": "#%%\n"
    }
   }
  },
  {
   "cell_type": "code",
   "execution_count": 105,
   "outputs": [],
   "source": [
    "\n",
    "# function to print sentiments of the sentence.\n",
    "def sentiment_scores(Reviews):\n",
    "# Creating a SentimentIntensityAnalyzer object.\n",
    "    sid_obj = SentimentIntensityAnalyzer()\n",
    "# polarity_scores method of SentimentIntensityAnalyzer\n",
    "# object giving  a sentiment dictionary which contains positive, negative, neutral, and compound scores.\n",
    "    sentiment_dict = sid_obj.polarity_scores(Reviews)\n",
    "    print(\"Overall Review dictionary is : \", sentiment_dict)\n",
    "    print(\"Review was rated as \", sentiment_dict['neg']*100, \"% Negative\")\n",
    "    print(\"Review was rated as \", sentiment_dict['neu']*100, \"% Neutral\")\n",
    "    print(\"Review was rated as \", sentiment_dict['pos']*100, \"% Positive\")\n",
    "    print(\"Review Overall Rated As\", end = \" \")\n",
    "    # decide sentiment as positive, negative and neutral\n",
    "    if sentiment_dict['compound'] >= 0.05 :\n",
    "        print(\"Positive\")\n",
    "    elif sentiment_dict['compound'] <= - 0.05 :\n",
    "        print(\"Negative\")\n",
    "    else :\n",
    "        print(\"Neutral\")\n"
   ],
   "metadata": {
    "collapsed": false,
    "pycharm": {
     "name": "#%%\n"
    }
   }
  },
  {
   "cell_type": "code",
   "execution_count": 106,
   "metadata": {
    "pycharm": {
     "name": "#%%\n"
    }
   },
   "outputs": [
    {
     "name": "stdout",
     "output_type": "stream",
     "text": [
      "{'roberta_neg': 0.8980253, 'roberta_pos': 0.09120331, 'roberta_neu': 0.01077144}\n"
     ]
    }
   ],
   "source": [
    "\n",
    "from transformers import AutoTokenizer\n",
    "from transformers import AutoModelForSequenceClassification\n",
    "tokenizer= AutoTokenizer.from_pretrained(\"cardiffnlp/twitter-roberta-base-sentiment\")\n",
    "model = AutoModelForSequenceClassification.from_pretrained(\"cardiffnlp/twitter-roberta-base-sentiment\", problem_type= 'multi_label_classification')\n",
    "#model was in a tensor\n",
    "encoded_text= tokenizer(words, return_tensors=\"pt\")\n",
    "output= model(**encoded_text)\n",
    "#changing it from a tensor to a numpy\n",
    "scores= output[0][0].detach().numpy()\n",
    "scores= softmax(scores)\n",
    "scores_dict = {'roberta_neg': scores[0],\n",
    "               'roberta_pos': scores[1],\n",
    "               'roberta_neu': scores[2]\n",
    "}\n",
    "print(scores_dict)\n"
   ]
  },
  {
   "cell_type": "code",
   "execution_count": 107,
   "outputs": [
    {
     "name": "stdout",
     "output_type": "stream",
     "text": [
      "Text Selected for VADER Sentimental Analysis :\n",
      "I deiike the EE network because it is so expensive\n",
      "Overall Review dictionary is :  {'neg': 0.0, 'neu': 1.0, 'pos': 0.0, 'compound': 0.0}\n",
      "Review was rated as  0.0 % Negative\n",
      "Review was rated as  100.0 % Neutral\n",
      "Review was rated as  0.0 % Positive\n",
      "Review Overall Rated As Neutral\n"
     ]
    }
   ],
   "source": [
    "#Vader Analysis\n",
    "print(\"Text Selected for VADER Sentimental Analysis :\")\n",
    "Reviews1 = words\n",
    "print(Reviews1)\n",
    "sentiment_scores(Reviews1)"
   ],
   "metadata": {
    "collapsed": false,
    "pycharm": {
     "name": "#%%\n"
    }
   }
  },
  {
   "cell_type": "markdown",
   "source": [
    "Roberta Model\n"
   ],
   "metadata": {
    "collapsed": false
   }
  },
  {
   "cell_type": "code",
   "execution_count": 108,
   "outputs": [
    {
     "data": {
      "text/plain": "  0%|          | 0/105 [00:00<?, ?it/s]",
      "application/vnd.jupyter.widget-view+json": {
       "version_major": 2,
       "version_minor": 0,
       "model_id": "64f8403d7bcd4c33b11980853cb7e5af"
      }
     },
     "metadata": {},
     "output_type": "display_data"
    }
   ],
   "source": [
    "roberta_result = {}#a dictionary that would store in the polarity score of the reviews\n",
    "for i, row in tqdm(new_data.iterrows(), total=len(new_data)):\n",
    "        text = row['Reviews']\n",
    "        my_id = row['Id']\n",
    "        roberta_result[my_id] = scores_dict"
   ],
   "metadata": {
    "collapsed": false,
    "pycharm": {
     "name": "#%%\n"
    }
   }
  },
  {
   "cell_type": "code",
   "execution_count": 109,
   "outputs": [
    {
     "data": {
      "text/plain": "{1: {'roberta_neg': 0.8980253,\n  'roberta_pos': 0.09120331,\n  'roberta_neu': 0.01077144},\n 2: {'roberta_neg': 0.8980253,\n  'roberta_pos': 0.09120331,\n  'roberta_neu': 0.01077144},\n 3: {'roberta_neg': 0.8980253,\n  'roberta_pos': 0.09120331,\n  'roberta_neu': 0.01077144},\n 4: {'roberta_neg': 0.8980253,\n  'roberta_pos': 0.09120331,\n  'roberta_neu': 0.01077144},\n 5: {'roberta_neg': 0.8980253,\n  'roberta_pos': 0.09120331,\n  'roberta_neu': 0.01077144},\n 6: {'roberta_neg': 0.8980253,\n  'roberta_pos': 0.09120331,\n  'roberta_neu': 0.01077144},\n 7: {'roberta_neg': 0.8980253,\n  'roberta_pos': 0.09120331,\n  'roberta_neu': 0.01077144},\n 8: {'roberta_neg': 0.8980253,\n  'roberta_pos': 0.09120331,\n  'roberta_neu': 0.01077144},\n 9: {'roberta_neg': 0.8980253,\n  'roberta_pos': 0.09120331,\n  'roberta_neu': 0.01077144},\n 10: {'roberta_neg': 0.8980253,\n  'roberta_pos': 0.09120331,\n  'roberta_neu': 0.01077144},\n 11: {'roberta_neg': 0.8980253,\n  'roberta_pos': 0.09120331,\n  'roberta_neu': 0.01077144},\n 12: {'roberta_neg': 0.8980253,\n  'roberta_pos': 0.09120331,\n  'roberta_neu': 0.01077144},\n 13: {'roberta_neg': 0.8980253,\n  'roberta_pos': 0.09120331,\n  'roberta_neu': 0.01077144},\n 14: {'roberta_neg': 0.8980253,\n  'roberta_pos': 0.09120331,\n  'roberta_neu': 0.01077144},\n 15: {'roberta_neg': 0.8980253,\n  'roberta_pos': 0.09120331,\n  'roberta_neu': 0.01077144},\n 16: {'roberta_neg': 0.8980253,\n  'roberta_pos': 0.09120331,\n  'roberta_neu': 0.01077144},\n 17: {'roberta_neg': 0.8980253,\n  'roberta_pos': 0.09120331,\n  'roberta_neu': 0.01077144},\n 18: {'roberta_neg': 0.8980253,\n  'roberta_pos': 0.09120331,\n  'roberta_neu': 0.01077144},\n 19: {'roberta_neg': 0.8980253,\n  'roberta_pos': 0.09120331,\n  'roberta_neu': 0.01077144},\n 20: {'roberta_neg': 0.8980253,\n  'roberta_pos': 0.09120331,\n  'roberta_neu': 0.01077144},\n 21: {'roberta_neg': 0.8980253,\n  'roberta_pos': 0.09120331,\n  'roberta_neu': 0.01077144},\n 22: {'roberta_neg': 0.8980253,\n  'roberta_pos': 0.09120331,\n  'roberta_neu': 0.01077144},\n 23: {'roberta_neg': 0.8980253,\n  'roberta_pos': 0.09120331,\n  'roberta_neu': 0.01077144},\n 24: {'roberta_neg': 0.8980253,\n  'roberta_pos': 0.09120331,\n  'roberta_neu': 0.01077144},\n 25: {'roberta_neg': 0.8980253,\n  'roberta_pos': 0.09120331,\n  'roberta_neu': 0.01077144},\n 26: {'roberta_neg': 0.8980253,\n  'roberta_pos': 0.09120331,\n  'roberta_neu': 0.01077144},\n 27: {'roberta_neg': 0.8980253,\n  'roberta_pos': 0.09120331,\n  'roberta_neu': 0.01077144},\n 28: {'roberta_neg': 0.8980253,\n  'roberta_pos': 0.09120331,\n  'roberta_neu': 0.01077144},\n 29: {'roberta_neg': 0.8980253,\n  'roberta_pos': 0.09120331,\n  'roberta_neu': 0.01077144},\n 30: {'roberta_neg': 0.8980253,\n  'roberta_pos': 0.09120331,\n  'roberta_neu': 0.01077144},\n 31: {'roberta_neg': 0.8980253,\n  'roberta_pos': 0.09120331,\n  'roberta_neu': 0.01077144},\n 32: {'roberta_neg': 0.8980253,\n  'roberta_pos': 0.09120331,\n  'roberta_neu': 0.01077144},\n 33: {'roberta_neg': 0.8980253,\n  'roberta_pos': 0.09120331,\n  'roberta_neu': 0.01077144},\n 34: {'roberta_neg': 0.8980253,\n  'roberta_pos': 0.09120331,\n  'roberta_neu': 0.01077144},\n 35: {'roberta_neg': 0.8980253,\n  'roberta_pos': 0.09120331,\n  'roberta_neu': 0.01077144},\n 36: {'roberta_neg': 0.8980253,\n  'roberta_pos': 0.09120331,\n  'roberta_neu': 0.01077144},\n 37: {'roberta_neg': 0.8980253,\n  'roberta_pos': 0.09120331,\n  'roberta_neu': 0.01077144},\n 38: {'roberta_neg': 0.8980253,\n  'roberta_pos': 0.09120331,\n  'roberta_neu': 0.01077144},\n 39: {'roberta_neg': 0.8980253,\n  'roberta_pos': 0.09120331,\n  'roberta_neu': 0.01077144},\n 40: {'roberta_neg': 0.8980253,\n  'roberta_pos': 0.09120331,\n  'roberta_neu': 0.01077144},\n 41: {'roberta_neg': 0.8980253,\n  'roberta_pos': 0.09120331,\n  'roberta_neu': 0.01077144},\n 42: {'roberta_neg': 0.8980253,\n  'roberta_pos': 0.09120331,\n  'roberta_neu': 0.01077144},\n 43: {'roberta_neg': 0.8980253,\n  'roberta_pos': 0.09120331,\n  'roberta_neu': 0.01077144},\n 44: {'roberta_neg': 0.8980253,\n  'roberta_pos': 0.09120331,\n  'roberta_neu': 0.01077144},\n 45: {'roberta_neg': 0.8980253,\n  'roberta_pos': 0.09120331,\n  'roberta_neu': 0.01077144},\n 46: {'roberta_neg': 0.8980253,\n  'roberta_pos': 0.09120331,\n  'roberta_neu': 0.01077144},\n 47: {'roberta_neg': 0.8980253,\n  'roberta_pos': 0.09120331,\n  'roberta_neu': 0.01077144},\n 48: {'roberta_neg': 0.8980253,\n  'roberta_pos': 0.09120331,\n  'roberta_neu': 0.01077144},\n 49: {'roberta_neg': 0.8980253,\n  'roberta_pos': 0.09120331,\n  'roberta_neu': 0.01077144},\n 50: {'roberta_neg': 0.8980253,\n  'roberta_pos': 0.09120331,\n  'roberta_neu': 0.01077144},\n 51: {'roberta_neg': 0.8980253,\n  'roberta_pos': 0.09120331,\n  'roberta_neu': 0.01077144},\n 52: {'roberta_neg': 0.8980253,\n  'roberta_pos': 0.09120331,\n  'roberta_neu': 0.01077144},\n 53: {'roberta_neg': 0.8980253,\n  'roberta_pos': 0.09120331,\n  'roberta_neu': 0.01077144},\n 54: {'roberta_neg': 0.8980253,\n  'roberta_pos': 0.09120331,\n  'roberta_neu': 0.01077144},\n 55: {'roberta_neg': 0.8980253,\n  'roberta_pos': 0.09120331,\n  'roberta_neu': 0.01077144},\n 56: {'roberta_neg': 0.8980253,\n  'roberta_pos': 0.09120331,\n  'roberta_neu': 0.01077144},\n 57: {'roberta_neg': 0.8980253,\n  'roberta_pos': 0.09120331,\n  'roberta_neu': 0.01077144},\n 58: {'roberta_neg': 0.8980253,\n  'roberta_pos': 0.09120331,\n  'roberta_neu': 0.01077144},\n 59: {'roberta_neg': 0.8980253,\n  'roberta_pos': 0.09120331,\n  'roberta_neu': 0.01077144},\n 60: {'roberta_neg': 0.8980253,\n  'roberta_pos': 0.09120331,\n  'roberta_neu': 0.01077144},\n 61: {'roberta_neg': 0.8980253,\n  'roberta_pos': 0.09120331,\n  'roberta_neu': 0.01077144},\n 62: {'roberta_neg': 0.8980253,\n  'roberta_pos': 0.09120331,\n  'roberta_neu': 0.01077144},\n 63: {'roberta_neg': 0.8980253,\n  'roberta_pos': 0.09120331,\n  'roberta_neu': 0.01077144},\n 64: {'roberta_neg': 0.8980253,\n  'roberta_pos': 0.09120331,\n  'roberta_neu': 0.01077144},\n 65: {'roberta_neg': 0.8980253,\n  'roberta_pos': 0.09120331,\n  'roberta_neu': 0.01077144},\n 66: {'roberta_neg': 0.8980253,\n  'roberta_pos': 0.09120331,\n  'roberta_neu': 0.01077144},\n 67: {'roberta_neg': 0.8980253,\n  'roberta_pos': 0.09120331,\n  'roberta_neu': 0.01077144},\n 68: {'roberta_neg': 0.8980253,\n  'roberta_pos': 0.09120331,\n  'roberta_neu': 0.01077144},\n 69: {'roberta_neg': 0.8980253,\n  'roberta_pos': 0.09120331,\n  'roberta_neu': 0.01077144},\n 70: {'roberta_neg': 0.8980253,\n  'roberta_pos': 0.09120331,\n  'roberta_neu': 0.01077144},\n 71: {'roberta_neg': 0.8980253,\n  'roberta_pos': 0.09120331,\n  'roberta_neu': 0.01077144},\n 72: {'roberta_neg': 0.8980253,\n  'roberta_pos': 0.09120331,\n  'roberta_neu': 0.01077144},\n 73: {'roberta_neg': 0.8980253,\n  'roberta_pos': 0.09120331,\n  'roberta_neu': 0.01077144},\n 74: {'roberta_neg': 0.8980253,\n  'roberta_pos': 0.09120331,\n  'roberta_neu': 0.01077144},\n 75: {'roberta_neg': 0.8980253,\n  'roberta_pos': 0.09120331,\n  'roberta_neu': 0.01077144},\n 76: {'roberta_neg': 0.8980253,\n  'roberta_pos': 0.09120331,\n  'roberta_neu': 0.01077144},\n 77: {'roberta_neg': 0.8980253,\n  'roberta_pos': 0.09120331,\n  'roberta_neu': 0.01077144},\n 78: {'roberta_neg': 0.8980253,\n  'roberta_pos': 0.09120331,\n  'roberta_neu': 0.01077144},\n 79: {'roberta_neg': 0.8980253,\n  'roberta_pos': 0.09120331,\n  'roberta_neu': 0.01077144},\n 80: {'roberta_neg': 0.8980253,\n  'roberta_pos': 0.09120331,\n  'roberta_neu': 0.01077144},\n 81: {'roberta_neg': 0.8980253,\n  'roberta_pos': 0.09120331,\n  'roberta_neu': 0.01077144},\n 82: {'roberta_neg': 0.8980253,\n  'roberta_pos': 0.09120331,\n  'roberta_neu': 0.01077144},\n 83: {'roberta_neg': 0.8980253,\n  'roberta_pos': 0.09120331,\n  'roberta_neu': 0.01077144},\n 84: {'roberta_neg': 0.8980253,\n  'roberta_pos': 0.09120331,\n  'roberta_neu': 0.01077144},\n 85: {'roberta_neg': 0.8980253,\n  'roberta_pos': 0.09120331,\n  'roberta_neu': 0.01077144},\n 86: {'roberta_neg': 0.8980253,\n  'roberta_pos': 0.09120331,\n  'roberta_neu': 0.01077144},\n 87: {'roberta_neg': 0.8980253,\n  'roberta_pos': 0.09120331,\n  'roberta_neu': 0.01077144},\n 88: {'roberta_neg': 0.8980253,\n  'roberta_pos': 0.09120331,\n  'roberta_neu': 0.01077144},\n 89: {'roberta_neg': 0.8980253,\n  'roberta_pos': 0.09120331,\n  'roberta_neu': 0.01077144},\n 90: {'roberta_neg': 0.8980253,\n  'roberta_pos': 0.09120331,\n  'roberta_neu': 0.01077144},\n 91: {'roberta_neg': 0.8980253,\n  'roberta_pos': 0.09120331,\n  'roberta_neu': 0.01077144},\n 92: {'roberta_neg': 0.8980253,\n  'roberta_pos': 0.09120331,\n  'roberta_neu': 0.01077144},\n 93: {'roberta_neg': 0.8980253,\n  'roberta_pos': 0.09120331,\n  'roberta_neu': 0.01077144},\n 94: {'roberta_neg': 0.8980253,\n  'roberta_pos': 0.09120331,\n  'roberta_neu': 0.01077144},\n 95: {'roberta_neg': 0.8980253,\n  'roberta_pos': 0.09120331,\n  'roberta_neu': 0.01077144},\n 96: {'roberta_neg': 0.8980253,\n  'roberta_pos': 0.09120331,\n  'roberta_neu': 0.01077144},\n 97: {'roberta_neg': 0.8980253,\n  'roberta_pos': 0.09120331,\n  'roberta_neu': 0.01077144},\n 98: {'roberta_neg': 0.8980253,\n  'roberta_pos': 0.09120331,\n  'roberta_neu': 0.01077144},\n 99: {'roberta_neg': 0.8980253,\n  'roberta_pos': 0.09120331,\n  'roberta_neu': 0.01077144},\n 100: {'roberta_neg': 0.8980253,\n  'roberta_pos': 0.09120331,\n  'roberta_neu': 0.01077144},\n 101: {'roberta_neg': 0.8980253,\n  'roberta_pos': 0.09120331,\n  'roberta_neu': 0.01077144},\n 102: {'roberta_neg': 0.8980253,\n  'roberta_pos': 0.09120331,\n  'roberta_neu': 0.01077144},\n 103: {'roberta_neg': 0.8980253,\n  'roberta_pos': 0.09120331,\n  'roberta_neu': 0.01077144},\n 104: {'roberta_neg': 0.8980253,\n  'roberta_pos': 0.09120331,\n  'roberta_neu': 0.01077144},\n 105: {'roberta_neg': 0.8980253,\n  'roberta_pos': 0.09120331,\n  'roberta_neu': 0.01077144}}"
     },
     "execution_count": 109,
     "metadata": {},
     "output_type": "execute_result"
    }
   ],
   "source": [
    "roberta_result"
   ],
   "metadata": {
    "collapsed": false,
    "pycharm": {
     "name": "#%%\n"
    }
   }
  },
  {
   "cell_type": "code",
   "execution_count": 110,
   "outputs": [
    {
     "data": {
      "text/plain": "     roberta_neg  roberta_pos  roberta_neu\n1       0.898025     0.091203     0.010771\n2       0.898025     0.091203     0.010771\n3       0.898025     0.091203     0.010771\n4       0.898025     0.091203     0.010771\n5       0.898025     0.091203     0.010771\n..           ...          ...          ...\n101     0.898025     0.091203     0.010771\n102     0.898025     0.091203     0.010771\n103     0.898025     0.091203     0.010771\n104     0.898025     0.091203     0.010771\n105     0.898025     0.091203     0.010771\n\n[105 rows x 3 columns]",
      "text/html": "<div>\n<style scoped>\n    .dataframe tbody tr th:only-of-type {\n        vertical-align: middle;\n    }\n\n    .dataframe tbody tr th {\n        vertical-align: top;\n    }\n\n    .dataframe thead th {\n        text-align: right;\n    }\n</style>\n<table border=\"1\" class=\"dataframe\">\n  <thead>\n    <tr style=\"text-align: right;\">\n      <th></th>\n      <th>roberta_neg</th>\n      <th>roberta_pos</th>\n      <th>roberta_neu</th>\n    </tr>\n  </thead>\n  <tbody>\n    <tr>\n      <th>1</th>\n      <td>0.898025</td>\n      <td>0.091203</td>\n      <td>0.010771</td>\n    </tr>\n    <tr>\n      <th>2</th>\n      <td>0.898025</td>\n      <td>0.091203</td>\n      <td>0.010771</td>\n    </tr>\n    <tr>\n      <th>3</th>\n      <td>0.898025</td>\n      <td>0.091203</td>\n      <td>0.010771</td>\n    </tr>\n    <tr>\n      <th>4</th>\n      <td>0.898025</td>\n      <td>0.091203</td>\n      <td>0.010771</td>\n    </tr>\n    <tr>\n      <th>5</th>\n      <td>0.898025</td>\n      <td>0.091203</td>\n      <td>0.010771</td>\n    </tr>\n    <tr>\n      <th>...</th>\n      <td>...</td>\n      <td>...</td>\n      <td>...</td>\n    </tr>\n    <tr>\n      <th>101</th>\n      <td>0.898025</td>\n      <td>0.091203</td>\n      <td>0.010771</td>\n    </tr>\n    <tr>\n      <th>102</th>\n      <td>0.898025</td>\n      <td>0.091203</td>\n      <td>0.010771</td>\n    </tr>\n    <tr>\n      <th>103</th>\n      <td>0.898025</td>\n      <td>0.091203</td>\n      <td>0.010771</td>\n    </tr>\n    <tr>\n      <th>104</th>\n      <td>0.898025</td>\n      <td>0.091203</td>\n      <td>0.010771</td>\n    </tr>\n    <tr>\n      <th>105</th>\n      <td>0.898025</td>\n      <td>0.091203</td>\n      <td>0.010771</td>\n    </tr>\n  </tbody>\n</table>\n<p>105 rows × 3 columns</p>\n</div>"
     },
     "execution_count": 110,
     "metadata": {},
     "output_type": "execute_result"
    }
   ],
   "source": [
    "roberta_result=pd.DataFrame(roberta_result).T\n",
    "roberta_result"
   ],
   "metadata": {
    "collapsed": false,
    "pycharm": {
     "name": "#%%\n"
    }
   }
  },
  {
   "cell_type": "markdown",
   "source": [
    "Comaparing the Model"
   ],
   "metadata": {
    "collapsed": false,
    "pycharm": {
     "name": "#%% md\n"
    }
   }
  },
  {
   "cell_type": "code",
   "execution_count": 111,
   "outputs": [
    {
     "data": {
      "text/plain": "  0%|          | 0/105 [00:00<?, ?it/s]",
      "application/vnd.jupyter.widget-view+json": {
       "version_major": 2,
       "version_minor": 0,
       "model_id": "4ad0a6d26bc54c71b859bbb6fbdd517b"
      }
     },
     "metadata": {},
     "output_type": "display_data"
    }
   ],
   "source": [
    "result = {}#a dictionary that would store in the polarity score of the reviews\n",
    "for i, row in tqdm(new_data.iterrows(), total=len(new_data)):\n",
    "        text = row['Reviews']\n",
    "        my_id = row['NetworkService']\n",
    "        result[my_id] = sia.polarity_scores(text)"
   ],
   "metadata": {
    "collapsed": false,
    "pycharm": {
     "name": "#%%\n"
    }
   }
  },
  {
   "cell_type": "code",
   "execution_count": 112,
   "outputs": [],
   "source": [
    "def polarity_scores_roberta(Reviews):\n",
    "    encoded_text= tokenizer(Reviews, return_tensors=\"pt\")\n",
    "    output= model(**encoded_text)\n",
    "#changing it from a tensor to a numpy\n",
    "    scores= output[0][0].detach().numpy()\n",
    "    scores= softmax(scores)\n",
    "    scores_dict = {'roberta_neg': scores[0],\n",
    "               'roberta_pos': scores[1],\n",
    "               'roberta_neu': scores[2]\n",
    "                   }\n",
    "    return  scores_dict"
   ],
   "metadata": {
    "collapsed": false,
    "pycharm": {
     "name": "#%%\n"
    }
   }
  },
  {
   "cell_type": "code",
   "execution_count": 113,
   "outputs": [],
   "source": [
    "def sentiment_scores(Reviews):\n",
    "# Creating a SentimentIntensityAnalyzer object.\n",
    "    sid_obj = SentimentIntensityAnalyzer()\n",
    "# polarity_scores method of SentimentIntensityAnalyzer\n",
    "# object gives a sentiment dictionary which contains pos, neg, neu, and compound scores.\n",
    "    sentiment_dict = sid_obj.polarity_scores(Reviews)\n",
    "    print(\"Overall Review dictionary is : \", sentiment_dict)\n",
    "    print(\"Vader Review was rated as \", sentiment_dict['neg']*100, \"% Negative\")\n",
    "    print(\"Vader Review was rated as \", sentiment_dict['neu']*100, \"% Neutral\")\n",
    "    print(\"Vader Review was rated as \", sentiment_dict['pos']*100, \"% Positive\")\n",
    "    print(\"Vader Review Overall Rated As\", end = \" \")\n",
    "    # decide sentiment as positive, negative and neutral\n",
    "    if sentiment_dict['compound'] >= 0.05 :\n",
    "        print(\"Positive\")\n",
    "    elif sentiment_dict['compound'] <= - 0.05 :\n",
    "        print(\"Negative\")\n",
    "    else :\n",
    "        print(\"Neutral\")\n",
    "\n",
    "def polarity_scores_roberta(Reviews):\n",
    "    encoded_text= tokenizer(Reviews, return_tensors=\"pt\")\n",
    "    output= model(**encoded_text)\n",
    "    scores= output[0][0].detach().numpy()\n",
    "    scores= softmax(scores)\n",
    "    compound = 0 #Todo You have to calculate the actual value of compound. it is set to zero just to make the error go away\n",
    "    scores_dict = {'roberta_neg': scores[0],\n",
    "               'roberta_pos': scores[1],\n",
    "               'roberta_neu': scores[2],\n",
    "                   }\n",
    "#changing it from a tensor to a numpy\n",
    "    #sentiment_dict = sid_obj.polarity_scores(Reviews)\n",
    "    print(\"Overall Review dictionary is : \", scores_dict)\n",
    "    print(\"Roberta Review was rated as\",  scores_dict['roberta_neg']*100,\"% Negative\")\n",
    "    print(\"Roberta Review was rated as\",  scores_dict['roberta_neu']*100,\"% Neutral\")\n",
    "    print(\"Roberta Review was rated as\",  scores_dict['roberta_pos']*100,\"% Positive\")\n",
    "    # decide sentiment as positive, negative and neutral\n",
    "\n"
   ],
   "metadata": {
    "collapsed": false,
    "pycharm": {
     "name": "#%%\n"
    }
   }
  },
  {
   "cell_type": "code",
   "execution_count": 114,
   "outputs": [
    {
     "name": "stdout",
     "output_type": "stream",
     "text": [
      "Text Selected for VADER Sentimental Analysis :\n",
      "I deiike the EE network because it is so expensive\n",
      "Overall Review dictionary is :  {'neg': 0.0, 'neu': 1.0, 'pos': 0.0, 'compound': 0.0}\n",
      "Vader Review was rated as  0.0 % Negative\n",
      "Vader Review was rated as  100.0 % Neutral\n",
      "Vader Review was rated as  0.0 % Positive\n",
      "Vader Review Overall Rated As Neutral\n",
      "Text Selected for Roberta  Sentimental Analysis :\n",
      "I deiike the EE network because it is so expensive\n",
      "Overall Review dictionary is :  {'roberta_neg': 0.8980253, 'roberta_pos': 0.09120331, 'roberta_neu': 0.01077144}\n",
      "Roberta Review was rated as 89.80252742767334 % Negative\n",
      "Roberta Review was rated as 1.0771440342068672 % Neutral\n",
      "Roberta Review was rated as 9.120330959558487 % Positive\n"
     ]
    }
   ],
   "source": [
    "#Vader Analysis\n",
    "print(\"Text Selected for VADER Sentimental Analysis :\")\n",
    "Reviews1 = words\n",
    "print(Reviews1)\n",
    "sentiment_scores(Reviews1)\n"
   ],
   "metadata": {
    "collapsed": false,
    "pycharm": {
     "name": "#%%\n"
    }
   }
  },
  {
   "cell_type": "code",
   "execution_count": 115,
   "outputs": [
    {
     "name": "stderr",
     "output_type": "stream",
     "text": [
      "No model was supplied, defaulted to distilbert-base-uncased-finetuned-sst-2-english and revision af0f99b (https://huggingface.co/distilbert-base-uncased-finetuned-sst-2-english).\n",
      "Using a pipeline without specifying a model name and revision in production is not recommended.\n"
     ]
    }
   ],
   "source": [
    "from transformers import pipeline\n",
    "sentiment_pipe = pipeline(\"sentiment-analysis\")"
   ],
   "metadata": {
    "collapsed": false,
    "pycharm": {
     "name": "#%%\n"
    }
   }
  },
  {
   "cell_type": "code",
   "execution_count": 116,
   "outputs": [
    {
     "data": {
      "text/plain": "[{'label': 'NEGATIVE', 'score': 0.9991160035133362}]"
     },
     "execution_count": 116,
     "metadata": {},
     "output_type": "execute_result"
    }
   ],
   "source": [
    "sentiment_pipe(\" I deiike the EE network because it is so expensive \")"
   ],
   "metadata": {
    "collapsed": false,
    "pycharm": {
     "name": "#%%\n"
    }
   }
  },
  {
   "cell_type": "code",
   "execution_count": 117,
   "outputs": [
    {
     "data": {
      "text/plain": "[{'label': 'POSITIVE', 'score': 0.9994534850120544}]"
     },
     "execution_count": 117,
     "metadata": {},
     "output_type": "execute_result"
    }
   ],
   "source": [
    "sentiment_pipe(' The Giffgaff network is fast, affordable and has a good netwrok coverage')"
   ],
   "metadata": {
    "collapsed": false,
    "pycharm": {
     "name": "#%%\n"
    }
   }
  },
  {
   "cell_type": "code",
   "execution_count": 118,
   "outputs": [
    {
     "data": {
      "text/plain": "[{'label': 'POSITIVE', 'score': 0.9970880150794983}]"
     },
     "execution_count": 118,
     "metadata": {},
     "output_type": "execute_result"
    }
   ],
   "source": [
    "sentiment_pipe(\"I have got a better deal, good customer satisfaction\")"
   ],
   "metadata": {
    "collapsed": false,
    "pycharm": {
     "name": "#%%\n"
    }
   }
  },
  {
   "cell_type": "code",
   "execution_count": 119,
   "outputs": [
    {
     "data": {
      "text/plain": "[{'label': 'NEGATIVE', 'score': 0.99566650390625}]"
     },
     "execution_count": 119,
     "metadata": {},
     "output_type": "execute_result"
    }
   ],
   "source": [
    "sentiment_pipe(\"Facing netrwork issues, mibile connectivity issue\")"
   ],
   "metadata": {
    "collapsed": false,
    "pycharm": {
     "name": "#%%\n"
    }
   }
  },
  {
   "cell_type": "markdown",
   "source": [
    "#Aspect based"
   ],
   "metadata": {
    "collapsed": false,
    "pycharm": {
     "name": "#%% md\n"
    }
   }
  },
  {
   "cell_type": "code",
   "execution_count": 4,
   "outputs": [],
   "source": [
    "import aspect_based_sentiment_analysis\n",
    "\n",
    "import spacy\n",
    "nlp = spacy.load(\"en_core_web_sm\")\n",
    "from textblob import  TextBlob\n"
   ],
   "metadata": {
    "collapsed": false,
    "pycharm": {
     "name": "#%%\n"
    }
   }
  },
  {
   "cell_type": "code",
   "execution_count": 6,
   "outputs": [
    {
     "data": {
      "text/plain": "Sentiment(polarity=0.0, subjectivity=0.0)"
     },
     "execution_count": 6,
     "metadata": {},
     "output_type": "execute_result"
    }
   ],
   "source": [
    "#opinion= \"I deiike the EE network because it is so expensive\"\n",
    "opinion= TextBlob(\"Facing Network issues,mobile data connectivity issues \")\n",
    "opinion.sentiment"
   ],
   "metadata": {
    "collapsed": false,
    "pycharm": {
     "name": "#%%\n"
    }
   }
  },
  {
   "cell_type": "code",
   "execution_count": 186,
   "outputs": [],
   "source": [
    "\n",
    "\n",
    "reviews = [\n",
    "    'I know for a fact that EE Network is costly',\n",
    "    'The Vodafone Network does not have enough network coverage in remote areas. It is money-focused',\n",
    "    'I love the Connectivity, network strength, internet Cheap bundles',\n",
    "    'It has a High data tariff which makes it expensive',\n",
    "    'The smart Network has an Indiscriminate charges, it is cheap,  low internet coverage across the UK and High international call charges',\n",
    "    'The Lebara network is affordable and fast than the EE network'\n",
    "]"
   ],
   "metadata": {
    "collapsed": false,
    "pycharm": {
     "name": "#%%\n"
    }
   }
  },
  {
   "cell_type": "code",
   "execution_count": 187,
   "outputs": [],
   "source": [
    "sentences = [\n",
    "  'The food we had yesterday was delicious',\n",
    "  'My time in Italy was very enjoyable',\n",
    "  'I found the meal to be tasty',\n",
    "  'The internet was slow.',\n",
    "  'Our experience was suboptimal'\n",
    "]"
   ],
   "metadata": {
    "collapsed": false,
    "pycharm": {
     "name": "#%%\n"
    }
   }
  },
  {
   "cell_type": "code",
   "execution_count": 190,
   "outputs": [
    {
     "name": "stdout",
     "output_type": "stream",
     "text": [
      "[{'aspect': '', 'description': 'costly'}, {'aspect': '', 'description': 'remote'}, {'aspect': '', 'description': 'Cheap'}, {'aspect': '', 'description': 'expensive'}, {'aspect': '', 'description': 'international'}, {'aspect': 'network', 'description': 'fast'}]\n"
     ]
    }
   ],
   "source": [
    "aspects = []\n",
    "for sentence in reviews:\n",
    "  doc = nlp(sentence)\n",
    "  descriptive_term = ''\n",
    "  target = ''\n",
    "  for token in doc:\n",
    "    if token.dep_ == 'nsubj' and token.pos_ == 'NOUN':\n",
    "      target = token.text\n",
    "    if token.pos_ == 'ADJ':\n",
    "      prepend = ''\n",
    "      for child in token.children:\n",
    "        if child.pos_ != 'ADV':\n",
    "          continue\n",
    "        prepend += child.text + ' '\n",
    "      descriptive_term = prepend + token.text\n",
    "  aspects.append({'aspect': target,\n",
    "    'description': descriptive_term})\n",
    "print(aspects)"
   ],
   "metadata": {
    "collapsed": false,
    "pycharm": {
     "name": "#%%\n"
    }
   }
  },
  {
   "cell_type": "code",
   "execution_count": null,
   "outputs": [],
   "source": [
    "import aspect_based_sentiment_analysis as absa"
   ],
   "metadata": {
    "collapsed": false,
    "pycharm": {
     "name": "#%%\n"
    }
   }
  }
 ],
 "metadata": {
  "kernelspec": {
   "display_name": "Python 3 (ipykernel)",
   "language": "python",
   "name": "python3"
  },
  "language_info": {
   "codemirror_mode": {
    "name": "ipython",
    "version": 3
   },
   "file_extension": ".py",
   "mimetype": "text/x-python",
   "name": "python",
   "nbconvert_exporter": "python",
   "pygments_lexer": "ipython3",
   "version": "3.9.0"
  }
 },
 "nbformat": 4,
 "nbformat_minor": 1
}